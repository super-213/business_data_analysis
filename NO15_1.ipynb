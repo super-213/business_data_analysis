{
 "cells": [
  {
   "cell_type": "code",
   "execution_count": 1,
   "id": "bdc105ba",
   "metadata": {},
   "outputs": [],
   "source": [
    "'''\n",
    "MacOS专用字体设置\n",
    "MacOS 系统中使用的中文字体路径\n",
    "适用于MacOS15版本\n",
    "可直接复制到代码中使用\n",
    "'''\n",
    "import matplotlib.pyplot as plt\n",
    "from matplotlib import font_manager\n",
    "# 设置字体路径\n",
    "font_path = '/System/Library/Fonts/STHeiti Medium.ttc'\n",
    "\n",
    "# 加载字体\n",
    "my_font = font_manager.FontProperties(fname=font_path)\n",
    "\n",
    "# 设置为默认字体\n",
    "plt.rcParams['font.family'] = my_font.get_name()\n",
    "plt.rcParams['axes.unicode_minus'] = False  # 正确显示负号"
   ]
  },
  {
   "cell_type": "code",
   "execution_count": 2,
   "id": "42d135c2",
   "metadata": {},
   "outputs": [
    {
     "data": {
      "text/html": [
       "<div>\n",
       "<style scoped>\n",
       "    .dataframe tbody tr th:only-of-type {\n",
       "        vertical-align: middle;\n",
       "    }\n",
       "\n",
       "    .dataframe tbody tr th {\n",
       "        vertical-align: top;\n",
       "    }\n",
       "\n",
       "    .dataframe thead th {\n",
       "        text-align: right;\n",
       "    }\n",
       "</style>\n",
       "<table border=\"1\" class=\"dataframe\">\n",
       "  <thead>\n",
       "    <tr style=\"text-align: right;\">\n",
       "      <th></th>\n",
       "      <th>病人编号</th>\n",
       "      <th>病人症状</th>\n",
       "    </tr>\n",
       "  </thead>\n",
       "  <tbody>\n",
       "    <tr>\n",
       "      <th>0</th>\n",
       "      <td>1</td>\n",
       "      <td>消化不良,便秘</td>\n",
       "    </tr>\n",
       "    <tr>\n",
       "      <th>1</th>\n",
       "      <td>2</td>\n",
       "      <td>心悸,失眠</td>\n",
       "    </tr>\n",
       "    <tr>\n",
       "      <th>2</th>\n",
       "      <td>3</td>\n",
       "      <td>腰疼,脱发,眼干</td>\n",
       "    </tr>\n",
       "    <tr>\n",
       "      <th>3</th>\n",
       "      <td>4</td>\n",
       "      <td>腹胀,便秘,哮喘,胸闷气短,消化不良</td>\n",
       "    </tr>\n",
       "    <tr>\n",
       "      <th>4</th>\n",
       "      <td>5</td>\n",
       "      <td>神经衰弱,失眠,月经不调</td>\n",
       "    </tr>\n",
       "  </tbody>\n",
       "</table>\n",
       "</div>"
      ],
      "text/plain": [
       "   病人编号                病人症状\n",
       "0     1             消化不良,便秘\n",
       "1     2               心悸,失眠\n",
       "2     3            腰疼,脱发,眼干\n",
       "3     4  腹胀,便秘,哮喘,胸闷气短,消化不良\n",
       "4     5        神经衰弱,失眠,月经不调"
      ]
     },
     "execution_count": 2,
     "metadata": {},
     "output_type": "execute_result"
    }
   ],
   "source": [
    "import pandas as pd\n",
    "\n",
    "df = pd.read_excel('中医辨证.xlsx')\n",
    "df.head()"
   ]
  },
  {
   "cell_type": "code",
   "execution_count": 3,
   "id": "23a281ec",
   "metadata": {},
   "outputs": [],
   "source": [
    "transactions = []\n",
    "for i in df['病人症状'].tolist():\n",
    "    transactions.append(i.split(','))\n"
   ]
  },
  {
   "cell_type": "code",
   "execution_count": 9,
   "id": "202595d0",
   "metadata": {},
   "outputs": [],
   "source": [
    "all_symptoms = sorted(list(set(sum(transactions, []))))\n",
    "df_hot = pd.DataFrame([[1 if s in t else 0 for s in all_symptoms] for t in transactions],\n",
    "                      columns=all_symptoms)"
   ]
  },
  {
   "cell_type": "markdown",
   "id": "3b696836",
   "metadata": {},
   "source": [
    "# Apriori"
   ]
  },
  {
   "cell_type": "code",
   "execution_count": 4,
   "id": "f0345e4b",
   "metadata": {},
   "outputs": [],
   "source": [
    "from apyori import apriori\n",
    "rules = apriori(transactions, min_support=0.1, min_confidence=0.7)\n",
    "results = list(rules)\n"
   ]
  },
  {
   "cell_type": "code",
   "execution_count": 5,
   "id": "84146cfc",
   "metadata": {},
   "outputs": [
    {
     "name": "stdout",
     "output_type": "stream",
     "text": [
      "便秘 -> 消化不良\n",
      "失眠 -> 月经不调\n",
      "神经衰弱 -> 消化不良\n",
      "脱发 -> 眼干\n",
      "腰疼 -> 眼干\n",
      "心悸, 失眠 -> 月经不调\n",
      "心悸, 神经衰弱 -> 消化不良\n"
     ]
    }
   ],
   "source": [
    "for i in results:  # 遍历results中的每一个频繁项集\n",
    "    for j in i.ordered_statistics:  # 获取频繁项集中的关联规则\n",
    "        X = j.items_base  # 关联规则的前件\n",
    "        Y = j.items_add  # 关联规则的后件\n",
    "        x = ', '.join([item for item in X])  # 连接前件中的元素\n",
    "        y = ', '.join([item for item in Y])  # 连接后件中的元素\n",
    "        if x != '':  # 防止出现关联规则前件为空的情况\n",
    "            print(x + ' -> ' + y)  # 通过字符串拼接的方式更好呈现结果"
   ]
  },
  {
   "cell_type": "code",
   "execution_count": 6,
   "id": "73aaf2bf",
   "metadata": {},
   "outputs": [],
   "source": [
    "data = []\n",
    "for item in results:\n",
    "    for stat in item.ordered_statistics:\n",
    "        if len(stat.items_base) > 0:\n",
    "            data.append({\n",
    "                '前件': ', '.join(stat.items_base),\n",
    "                '后件': ', '.join(stat.items_add),\n",
    "                '支持度': round(item.support, 3),\n",
    "                '置信度': round(stat.confidence, 3),\n",
    "                '提升度': round(stat.lift, 3)\n",
    "            })"
   ]
  },
  {
   "cell_type": "code",
   "execution_count": null,
   "id": "9bcffbce",
   "metadata": {},
   "outputs": [
    {
     "name": "stdout",
     "output_type": "stream",
     "text": [
      "         前件    后件    支持度    置信度    提升度\n",
      "3        脱发    眼干  0.143  0.947  3.045\n",
      "4        腰疼    眼干  0.136  0.850  2.733\n",
      "6  心悸, 神经衰弱  消化不良  0.100  0.926  2.692\n",
      "2      神经衰弱  消化不良  0.164  0.872  2.536\n",
      "0        便秘  消化不良  0.160  0.870  2.528\n",
      "1        失眠  月经不调  0.318  0.809  1.672\n",
      "5    心悸, 失眠  月经不调  0.167  0.766  1.583\n"
     ]
    }
   ],
   "source": [
    "df_rules = pd.DataFrame(data)\n",
    "df_rules = df_rules.sort_values(by='提升度', ascending=False)\n",
    "\n",
    "print(df_rules.head(10))"
   ]
  },
  {
   "cell_type": "markdown",
   "id": "55200f55",
   "metadata": {},
   "source": [
    "# w2v"
   ]
  },
  {
   "cell_type": "code",
   "execution_count": 8,
   "id": "77068759",
   "metadata": {},
   "outputs": [],
   "source": [
    "from gensim.models import Word2Vec"
   ]
  },
  {
   "cell_type": "code",
   "execution_count": 10,
   "id": "ff88ebf7",
   "metadata": {},
   "outputs": [
    {
     "name": "stdout",
     "output_type": "stream",
     "text": [
      "与『便秘』最相似的症状：\n",
      "[('哮喘', 0.32900574803352356), ('神经衰弱', 0.30445194244384766), ('腰疼', 0.29307475686073303), ('心悸', 0.29051631689071655), ('失眠', 0.2569029927253723)]\n"
     ]
    }
   ],
   "source": [
    "model = Word2Vec(sentences=transactions, vector_size=50, window=3, min_count=1, sg=1)\n",
    "symptom = all_symptoms[0]\n",
    "print(f\"与『{symptom}』最相似的症状：\")\n",
    "print(model.wv.most_similar(symptom, topn=5))"
   ]
  },
  {
   "cell_type": "markdown",
   "id": "58e6bcaf",
   "metadata": {},
   "source": [
    "# Kmeans"
   ]
  },
  {
   "cell_type": "code",
   "execution_count": 15,
   "id": "6bc9372f",
   "metadata": {},
   "outputs": [
    {
     "name": "stderr",
     "output_type": "stream",
     "text": [
      "/opt/anaconda3/lib/python3.12/site-packages/sklearn/cluster/_kmeans.py:1416: FutureWarning: The default value of `n_init` will change from 10 to 'auto' in 1.4. Set the value of `n_init` explicitly to suppress the warning\n",
      "  super()._check_params_vs_input(X, default_n_init=10)\n"
     ]
    }
   ],
   "source": [
    "from sklearn.cluster import KMeans\n",
    "\n",
    "kmeans = KMeans(n_clusters=4, random_state=42)\n",
    "labels = kmeans.fit_predict(df_hot)\n",
    "df['聚类标签'] = labels"
   ]
  },
  {
   "cell_type": "code",
   "execution_count": 16,
   "id": "bab88f28",
   "metadata": {},
   "outputs": [
    {
     "data": {
      "text/html": [
       "<div>\n",
       "<style scoped>\n",
       "    .dataframe tbody tr th:only-of-type {\n",
       "        vertical-align: middle;\n",
       "    }\n",
       "\n",
       "    .dataframe tbody tr th {\n",
       "        vertical-align: top;\n",
       "    }\n",
       "\n",
       "    .dataframe thead th {\n",
       "        text-align: right;\n",
       "    }\n",
       "</style>\n",
       "<table border=\"1\" class=\"dataframe\">\n",
       "  <thead>\n",
       "    <tr style=\"text-align: right;\">\n",
       "      <th></th>\n",
       "      <th>病人编号</th>\n",
       "      <th>病人症状</th>\n",
       "      <th>聚类标签</th>\n",
       "    </tr>\n",
       "  </thead>\n",
       "  <tbody>\n",
       "    <tr>\n",
       "      <th>0</th>\n",
       "      <td>1</td>\n",
       "      <td>消化不良,便秘</td>\n",
       "      <td>1</td>\n",
       "    </tr>\n",
       "    <tr>\n",
       "      <th>1</th>\n",
       "      <td>2</td>\n",
       "      <td>心悸,失眠</td>\n",
       "      <td>3</td>\n",
       "    </tr>\n",
       "    <tr>\n",
       "      <th>2</th>\n",
       "      <td>3</td>\n",
       "      <td>腰疼,脱发,眼干</td>\n",
       "      <td>0</td>\n",
       "    </tr>\n",
       "    <tr>\n",
       "      <th>3</th>\n",
       "      <td>4</td>\n",
       "      <td>腹胀,便秘,哮喘,胸闷气短,消化不良</td>\n",
       "      <td>2</td>\n",
       "    </tr>\n",
       "    <tr>\n",
       "      <th>4</th>\n",
       "      <td>5</td>\n",
       "      <td>神经衰弱,失眠,月经不调</td>\n",
       "      <td>3</td>\n",
       "    </tr>\n",
       "  </tbody>\n",
       "</table>\n",
       "</div>"
      ],
      "text/plain": [
       "   病人编号                病人症状  聚类标签\n",
       "0     1             消化不良,便秘     1\n",
       "1     2               心悸,失眠     3\n",
       "2     3            腰疼,脱发,眼干     0\n",
       "3     4  腹胀,便秘,哮喘,胸闷气短,消化不良     2\n",
       "4     5        神经衰弱,失眠,月经不调     3"
      ]
     },
     "execution_count": 16,
     "metadata": {},
     "output_type": "execute_result"
    }
   ],
   "source": [
    "df.head()"
   ]
  },
  {
   "cell_type": "markdown",
   "id": "121ec768",
   "metadata": {},
   "source": [
    "# PCA"
   ]
  },
  {
   "cell_type": "code",
   "execution_count": 20,
   "id": "2cad0464",
   "metadata": {},
   "outputs": [
    {
     "data": {
      "image/png": "[encoded data removed]",
      "text/plain": [
       "<Figure size 700x600 with 1 Axes>"
      ]
     },
     "metadata": {},
     "output_type": "display_data"
    }
   ],
   "source": [
    "from sklearn.decomposition import PCA\n",
    "\n",
    "pca = PCA(n_components=2)\n",
    "reduced_data = pca.fit_transform(df_hot)\n",
    "plt.figure(figsize=(7,6))\n",
    "plt.scatter(reduced_data[:,0], reduced_data[:,1], c=labels, cmap='rainbow', s=30)\n",
    "plt.title(\"患者症状分布图\")\n",
    "plt.xlabel(\"主成分1\")\n",
    "plt.ylabel(\"主成分2\")\n",
    "plt.show()"
   ]
  },
  {
   "cell_type": "markdown",
   "id": "46441ca0",
   "metadata": {},
   "source": [
    "# FP-Growth"
   ]
  },
  {
   "cell_type": "code",
   "execution_count": 18,
   "id": "df6c7907",
   "metadata": {},
   "outputs": [
    {
     "name": "stderr",
     "output_type": "stream",
     "text": [
      "/opt/anaconda3/lib/python3.12/site-packages/mlxtend/frequent_patterns/fpcommon.py:161: DeprecationWarning: DataFrames with non-bool types result in worse computationalperformance and their support might be discontinued in the future.Please use a DataFrame with bool type\n",
      "  warnings.warn(\n"
     ]
    }
   ],
   "source": [
    "from mlxtend.frequent_patterns import apriori, fpgrowth, association_rules\n",
    "\n",
    "freq_fp = fpgrowth(df_hot, min_support=0.05, use_colnames=True)\n",
    "rules_fp = association_rules(freq_fp, metric=\"confidence\", min_threshold=0.6)\n",
    "rules_fp.sort_values(by='lift', ascending=False, inplace=True)"
   ]
  },
  {
   "cell_type": "code",
   "execution_count": 19,
   "id": "6082b70f",
   "metadata": {},
   "outputs": [
    {
     "data": {
      "text/html": [
       "<div>\n",
       "<style scoped>\n",
       "    .dataframe tbody tr th:only-of-type {\n",
       "        vertical-align: middle;\n",
       "    }\n",
       "\n",
       "    .dataframe tbody tr th {\n",
       "        vertical-align: top;\n",
       "    }\n",
       "\n",
       "    .dataframe thead th {\n",
       "        text-align: right;\n",
       "    }\n",
       "</style>\n",
       "<table border=\"1\" class=\"dataframe\">\n",
       "  <thead>\n",
       "    <tr style=\"text-align: right;\">\n",
       "      <th></th>\n",
       "      <th>antecedents</th>\n",
       "      <th>consequents</th>\n",
       "      <th>antecedent support</th>\n",
       "      <th>consequent support</th>\n",
       "      <th>support</th>\n",
       "      <th>confidence</th>\n",
       "      <th>lift</th>\n",
       "      <th>representativity</th>\n",
       "      <th>leverage</th>\n",
       "      <th>conviction</th>\n",
       "      <th>zhangs_metric</th>\n",
       "      <th>jaccard</th>\n",
       "      <th>certainty</th>\n",
       "      <th>kulczynski</th>\n",
       "    </tr>\n",
       "  </thead>\n",
       "  <tbody>\n",
       "    <tr>\n",
       "      <th>22</th>\n",
       "      <td>(腹胀, 消化不良)</td>\n",
       "      <td>(便秘)</td>\n",
       "      <td>0.076</td>\n",
       "      <td>0.184</td>\n",
       "      <td>0.076</td>\n",
       "      <td>1.000000</td>\n",
       "      <td>5.434783</td>\n",
       "      <td>1.0</td>\n",
       "      <td>0.062016</td>\n",
       "      <td>inf</td>\n",
       "      <td>0.883117</td>\n",
       "      <td>0.413043</td>\n",
       "      <td>1.000000</td>\n",
       "      <td>0.706522</td>\n",
       "    </tr>\n",
       "    <tr>\n",
       "      <th>23</th>\n",
       "      <td>(腹胀)</td>\n",
       "      <td>(便秘, 消化不良)</td>\n",
       "      <td>0.092</td>\n",
       "      <td>0.160</td>\n",
       "      <td>0.076</td>\n",
       "      <td>0.826087</td>\n",
       "      <td>5.163043</td>\n",
       "      <td>1.0</td>\n",
       "      <td>0.061280</td>\n",
       "      <td>4.830000</td>\n",
       "      <td>0.888013</td>\n",
       "      <td>0.431818</td>\n",
       "      <td>0.792961</td>\n",
       "      <td>0.650543</td>\n",
       "    </tr>\n",
       "    <tr>\n",
       "      <th>18</th>\n",
       "      <td>(胸闷气短)</td>\n",
       "      <td>(哮喘)</td>\n",
       "      <td>0.140</td>\n",
       "      <td>0.124</td>\n",
       "      <td>0.088</td>\n",
       "      <td>0.628571</td>\n",
       "      <td>5.069124</td>\n",
       "      <td>1.0</td>\n",
       "      <td>0.070640</td>\n",
       "      <td>2.358462</td>\n",
       "      <td>0.933404</td>\n",
       "      <td>0.500000</td>\n",
       "      <td>0.575995</td>\n",
       "      <td>0.669124</td>\n",
       "    </tr>\n",
       "    <tr>\n",
       "      <th>17</th>\n",
       "      <td>(哮喘)</td>\n",
       "      <td>(胸闷气短)</td>\n",
       "      <td>0.124</td>\n",
       "      <td>0.140</td>\n",
       "      <td>0.088</td>\n",
       "      <td>0.709677</td>\n",
       "      <td>5.069124</td>\n",
       "      <td>1.0</td>\n",
       "      <td>0.070640</td>\n",
       "      <td>2.962222</td>\n",
       "      <td>0.916355</td>\n",
       "      <td>0.500000</td>\n",
       "      <td>0.662416</td>\n",
       "      <td>0.669124</td>\n",
       "    </tr>\n",
       "    <tr>\n",
       "      <th>19</th>\n",
       "      <td>(腹胀)</td>\n",
       "      <td>(便秘)</td>\n",
       "      <td>0.092</td>\n",
       "      <td>0.184</td>\n",
       "      <td>0.084</td>\n",
       "      <td>0.913043</td>\n",
       "      <td>4.962193</td>\n",
       "      <td>1.0</td>\n",
       "      <td>0.067072</td>\n",
       "      <td>9.384000</td>\n",
       "      <td>0.879379</td>\n",
       "      <td>0.437500</td>\n",
       "      <td>0.893436</td>\n",
       "      <td>0.684783</td>\n",
       "    </tr>\n",
       "  </tbody>\n",
       "</table>\n",
       "</div>"
      ],
      "text/plain": [
       "   antecedents consequents  antecedent support  consequent support  support  \\\n",
       "22  (腹胀, 消化不良)        (便秘)               0.076               0.184    0.076   \n",
       "23        (腹胀)  (便秘, 消化不良)               0.092               0.160    0.076   \n",
       "18      (胸闷气短)        (哮喘)               0.140               0.124    0.088   \n",
       "17        (哮喘)      (胸闷气短)               0.124               0.140    0.088   \n",
       "19        (腹胀)        (便秘)               0.092               0.184    0.084   \n",
       "\n",
       "    confidence      lift  representativity  leverage  conviction  \\\n",
       "22    1.000000  5.434783               1.0  0.062016         inf   \n",
       "23    0.826087  5.163043               1.0  0.061280    4.830000   \n",
       "18    0.628571  5.069124               1.0  0.070640    2.358462   \n",
       "17    0.709677  5.069124               1.0  0.070640    2.962222   \n",
       "19    0.913043  4.962193               1.0  0.067072    9.384000   \n",
       "\n",
       "    zhangs_metric   jaccard  certainty  kulczynski  \n",
       "22       0.883117  0.413043   1.000000    0.706522  \n",
       "23       0.888013  0.431818   0.792961    0.650543  \n",
       "18       0.933404  0.500000   0.575995    0.669124  \n",
       "17       0.916355  0.500000   0.662416    0.669124  \n",
       "19       0.879379  0.437500   0.893436    0.684783  "
      ]
     },
     "execution_count": 19,
     "metadata": {},
     "output_type": "execute_result"
    }
   ],
   "source": [
    "rules_fp.head()"
   ]
  },
  {
   "cell_type": "code",
   "execution_count": null,
   "id": "ce88750e",
   "metadata": {},
   "outputs": [],
   "source": []
  }
 ],
 "metadata": {
  "kernelspec": {
   "display_name": "base",
   "language": "python",
   "name": "python3"
  },
  "language_info": {
   "codemirror_mode": {
    "name": "ipython",
    "version": 3
   },
   "file_extension": ".py",
   "mimetype": "text/x-python",
   "name": "python",
   "nbconvert_exporter": "python",
   "pygments_lexer": "ipython3",
   "version": "3.12.2"
  }
 },
 "nbformat": 4,
 "nbformat_minor": 5
}
